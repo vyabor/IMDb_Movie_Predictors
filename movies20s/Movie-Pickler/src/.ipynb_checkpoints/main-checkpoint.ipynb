{
 "cells": [
  {
   "cell_type": "code",
   "execution_count": 1,
   "id": "6631815a",
   "metadata": {},
   "outputs": [],
   "source": [
    "import pandas as pd\n",
    "import numpy as np\n",
    "import json\n",
    "import contractions\n",
    "import re\n",
    "from sklearn.model_selection import train_test_split\n",
    "from sklearn.preprocessing import MultiLabelBinarizer\n",
    "from sklearn.feature_extraction.text import TfidfVectorizer\n",
    "from sklearn.multiclass import OneVsRestClassifier\n",
    "from sklearn.linear_model import SGDClassifier\n",
    "from sklearn.metrics import f1_score,precision_score,recall_score,accuracy_score,hamming_loss\n",
    "from sklearn.metrics.pairwise import cosine_similarity\n",
    "from sklearn.model_selection import GridSearchCV\n",
    "from sklearn.neighbors import KNeighborsClassifier\n",
    "import time\n",
    "from sklearn import utils\n",
    "from gensim.parsing.preprocessing import remove_stopwords\n",
    "import pickle\n",
    "import matplotlib.pyplot as plt"
   ]
  },
  {
   "cell_type": "code",
   "execution_count": 2,
   "id": "9da75a79",
   "metadata": {},
   "outputs": [
    {
     "name": "stderr",
     "output_type": "stream",
     "text": [
      "C:\\Users\\vyabo\\anaconda3\\lib\\site-packages\\IPython\\core\\interactiveshell.py:3444: DtypeWarning: Columns (4,5) have mixed types.Specify dtype option on import or set low_memory=False.\n",
      "  exec(code_obj, self.user_global_ns, self.user_ns)\n"
     ]
    },
    {
     "data": {
      "text/html": [
       "<div>\n",
       "<style scoped>\n",
       "    .dataframe tbody tr th:only-of-type {\n",
       "        vertical-align: middle;\n",
       "    }\n",
       "\n",
       "    .dataframe tbody tr th {\n",
       "        vertical-align: top;\n",
       "    }\n",
       "\n",
       "    .dataframe thead th {\n",
       "        text-align: right;\n",
       "    }\n",
       "</style>\n",
       "<table border=\"1\" class=\"dataframe\">\n",
       "  <thead>\n",
       "    <tr style=\"text-align: right;\">\n",
       "      <th></th>\n",
       "      <th>tconst</th>\n",
       "      <th>titleType</th>\n",
       "      <th>primaryTitle</th>\n",
       "      <th>originalTitle</th>\n",
       "      <th>isAdult</th>\n",
       "      <th>startYear</th>\n",
       "      <th>endYear</th>\n",
       "      <th>runtimeMinutes</th>\n",
       "      <th>genres</th>\n",
       "    </tr>\n",
       "  </thead>\n",
       "  <tbody>\n",
       "    <tr>\n",
       "      <th>0</th>\n",
       "      <td>tt0000001</td>\n",
       "      <td>short</td>\n",
       "      <td>Carmencita</td>\n",
       "      <td>Carmencita</td>\n",
       "      <td>0</td>\n",
       "      <td>1894</td>\n",
       "      <td>\\N</td>\n",
       "      <td>1</td>\n",
       "      <td>Documentary,Short</td>\n",
       "    </tr>\n",
       "    <tr>\n",
       "      <th>1</th>\n",
       "      <td>tt0000002</td>\n",
       "      <td>short</td>\n",
       "      <td>Le clown et ses chiens</td>\n",
       "      <td>Le clown et ses chiens</td>\n",
       "      <td>0</td>\n",
       "      <td>1892</td>\n",
       "      <td>\\N</td>\n",
       "      <td>5</td>\n",
       "      <td>Animation,Short</td>\n",
       "    </tr>\n",
       "    <tr>\n",
       "      <th>2</th>\n",
       "      <td>tt0000003</td>\n",
       "      <td>short</td>\n",
       "      <td>Pauvre Pierrot</td>\n",
       "      <td>Pauvre Pierrot</td>\n",
       "      <td>0</td>\n",
       "      <td>1892</td>\n",
       "      <td>\\N</td>\n",
       "      <td>4</td>\n",
       "      <td>Animation,Comedy,Romance</td>\n",
       "    </tr>\n",
       "    <tr>\n",
       "      <th>3</th>\n",
       "      <td>tt0000004</td>\n",
       "      <td>short</td>\n",
       "      <td>Un bon bock</td>\n",
       "      <td>Un bon bock</td>\n",
       "      <td>0</td>\n",
       "      <td>1892</td>\n",
       "      <td>\\N</td>\n",
       "      <td>12</td>\n",
       "      <td>Animation,Short</td>\n",
       "    </tr>\n",
       "    <tr>\n",
       "      <th>4</th>\n",
       "      <td>tt0000005</td>\n",
       "      <td>short</td>\n",
       "      <td>Blacksmith Scene</td>\n",
       "      <td>Blacksmith Scene</td>\n",
       "      <td>0</td>\n",
       "      <td>1893</td>\n",
       "      <td>\\N</td>\n",
       "      <td>1</td>\n",
       "      <td>Comedy,Short</td>\n",
       "    </tr>\n",
       "  </tbody>\n",
       "</table>\n",
       "</div>"
      ],
      "text/plain": [
       "      tconst titleType            primaryTitle           originalTitle  \\\n",
       "0  tt0000001     short              Carmencita              Carmencita   \n",
       "1  tt0000002     short  Le clown et ses chiens  Le clown et ses chiens   \n",
       "2  tt0000003     short          Pauvre Pierrot          Pauvre Pierrot   \n",
       "3  tt0000004     short             Un bon bock             Un bon bock   \n",
       "4  tt0000005     short        Blacksmith Scene        Blacksmith Scene   \n",
       "\n",
       "  isAdult startYear endYear runtimeMinutes                    genres  \n",
       "0       0      1894      \\N              1         Documentary,Short  \n",
       "1       0      1892      \\N              5           Animation,Short  \n",
       "2       0      1892      \\N              4  Animation,Comedy,Romance  \n",
       "3       0      1892      \\N             12           Animation,Short  \n",
       "4       0      1893      \\N              1              Comedy,Short  "
      ]
     },
     "execution_count": 2,
     "metadata": {},
     "output_type": "execute_result"
    }
   ],
   "source": [
    "meta = pd.read_csv('../../../data.tsv', sep = '\\t')\n",
    "meta.head()"
   ]
  },
  {
   "cell_type": "code",
   "execution_count": 3,
   "id": "cc548238",
   "metadata": {},
   "outputs": [
    {
     "data": {
      "text/html": [
       "<div>\n",
       "<style scoped>\n",
       "    .dataframe tbody tr th:only-of-type {\n",
       "        vertical-align: middle;\n",
       "    }\n",
       "\n",
       "    .dataframe tbody tr th {\n",
       "        vertical-align: top;\n",
       "    }\n",
       "\n",
       "    .dataframe thead th {\n",
       "        text-align: right;\n",
       "    }\n",
       "</style>\n",
       "<table border=\"1\" class=\"dataframe\">\n",
       "  <thead>\n",
       "    <tr style=\"text-align: right;\">\n",
       "      <th></th>\n",
       "      <th>tconst</th>\n",
       "      <th>titleType</th>\n",
       "      <th>primaryTitle</th>\n",
       "      <th>originalTitle</th>\n",
       "      <th>isAdult</th>\n",
       "      <th>startYear</th>\n",
       "      <th>endYear</th>\n",
       "      <th>runtimeMinutes</th>\n",
       "      <th>genres</th>\n",
       "    </tr>\n",
       "  </thead>\n",
       "  <tbody>\n",
       "    <tr>\n",
       "      <th>498</th>\n",
       "      <td>tt0000502</td>\n",
       "      <td>movie</td>\n",
       "      <td>Bohemios</td>\n",
       "      <td>Bohemios</td>\n",
       "      <td>0</td>\n",
       "      <td>1905</td>\n",
       "      <td>\\N</td>\n",
       "      <td>100</td>\n",
       "      <td>\\N</td>\n",
       "    </tr>\n",
       "    <tr>\n",
       "      <th>570</th>\n",
       "      <td>tt0000574</td>\n",
       "      <td>movie</td>\n",
       "      <td>The Story of the Kelly Gang</td>\n",
       "      <td>The Story of the Kelly Gang</td>\n",
       "      <td>0</td>\n",
       "      <td>1906</td>\n",
       "      <td>\\N</td>\n",
       "      <td>70</td>\n",
       "      <td>Action,Adventure,Biography</td>\n",
       "    </tr>\n",
       "    <tr>\n",
       "      <th>587</th>\n",
       "      <td>tt0000591</td>\n",
       "      <td>movie</td>\n",
       "      <td>The Prodigal Son</td>\n",
       "      <td>L'enfant prodigue</td>\n",
       "      <td>0</td>\n",
       "      <td>1907</td>\n",
       "      <td>\\N</td>\n",
       "      <td>90</td>\n",
       "      <td>Drama</td>\n",
       "    </tr>\n",
       "    <tr>\n",
       "      <th>610</th>\n",
       "      <td>tt0000615</td>\n",
       "      <td>movie</td>\n",
       "      <td>Robbery Under Arms</td>\n",
       "      <td>Robbery Under Arms</td>\n",
       "      <td>0</td>\n",
       "      <td>1907</td>\n",
       "      <td>\\N</td>\n",
       "      <td>\\N</td>\n",
       "      <td>Drama</td>\n",
       "    </tr>\n",
       "    <tr>\n",
       "      <th>625</th>\n",
       "      <td>tt0000630</td>\n",
       "      <td>movie</td>\n",
       "      <td>Hamlet</td>\n",
       "      <td>Amleto</td>\n",
       "      <td>0</td>\n",
       "      <td>1908</td>\n",
       "      <td>\\N</td>\n",
       "      <td>\\N</td>\n",
       "      <td>Drama</td>\n",
       "    </tr>\n",
       "  </tbody>\n",
       "</table>\n",
       "</div>"
      ],
      "text/plain": [
       "        tconst titleType                 primaryTitle  \\\n",
       "498  tt0000502     movie                     Bohemios   \n",
       "570  tt0000574     movie  The Story of the Kelly Gang   \n",
       "587  tt0000591     movie             The Prodigal Son   \n",
       "610  tt0000615     movie           Robbery Under Arms   \n",
       "625  tt0000630     movie                       Hamlet   \n",
       "\n",
       "                   originalTitle isAdult startYear endYear runtimeMinutes  \\\n",
       "498                     Bohemios       0      1905      \\N            100   \n",
       "570  The Story of the Kelly Gang       0      1906      \\N             70   \n",
       "587            L'enfant prodigue       0      1907      \\N             90   \n",
       "610           Robbery Under Arms       0      1907      \\N             \\N   \n",
       "625                       Amleto       0      1908      \\N             \\N   \n",
       "\n",
       "                         genres  \n",
       "498                          \\N  \n",
       "570  Action,Adventure,Biography  \n",
       "587                       Drama  \n",
       "610                       Drama  \n",
       "625                       Drama  "
      ]
     },
     "execution_count": 3,
     "metadata": {},
     "output_type": "execute_result"
    }
   ],
   "source": [
    "meta = meta[(meta['titleType'] != 'short') & (meta['titleType'] != 'tvEpisode') & (meta['titleType'] != 'tvShort') & (meta['titleType'] != 'video') & (meta['titleType'] != 'videoGame')]\n",
    "meta.head()"
   ]
  },
  {
   "cell_type": "code",
   "execution_count": 4,
   "id": "2f9271cf",
   "metadata": {},
   "outputs": [
    {
     "data": {
      "text/html": [
       "<div>\n",
       "<style scoped>\n",
       "    .dataframe tbody tr th:only-of-type {\n",
       "        vertical-align: middle;\n",
       "    }\n",
       "\n",
       "    .dataframe tbody tr th {\n",
       "        vertical-align: top;\n",
       "    }\n",
       "\n",
       "    .dataframe thead th {\n",
       "        text-align: right;\n",
       "    }\n",
       "</style>\n",
       "<table border=\"1\" class=\"dataframe\">\n",
       "  <thead>\n",
       "    <tr style=\"text-align: right;\">\n",
       "      <th></th>\n",
       "      <th>tconst</th>\n",
       "      <th>titleType</th>\n",
       "      <th>primaryTitle</th>\n",
       "      <th>originalTitle</th>\n",
       "      <th>isAdult</th>\n",
       "      <th>startYear</th>\n",
       "      <th>endYear</th>\n",
       "      <th>runtimeMinutes</th>\n",
       "      <th>genres</th>\n",
       "    </tr>\n",
       "  </thead>\n",
       "  <tbody>\n",
       "    <tr>\n",
       "      <th>0</th>\n",
       "      <td>tt0000574</td>\n",
       "      <td>movie</td>\n",
       "      <td>The Story of the Kelly Gang</td>\n",
       "      <td>The Story of the Kelly Gang</td>\n",
       "      <td>0</td>\n",
       "      <td>1906</td>\n",
       "      <td>\\N</td>\n",
       "      <td>70</td>\n",
       "      <td>Action,Adventure,Biography</td>\n",
       "    </tr>\n",
       "    <tr>\n",
       "      <th>1</th>\n",
       "      <td>tt0000591</td>\n",
       "      <td>movie</td>\n",
       "      <td>The Prodigal Son</td>\n",
       "      <td>L'enfant prodigue</td>\n",
       "      <td>0</td>\n",
       "      <td>1907</td>\n",
       "      <td>\\N</td>\n",
       "      <td>90</td>\n",
       "      <td>Drama</td>\n",
       "    </tr>\n",
       "    <tr>\n",
       "      <th>2</th>\n",
       "      <td>tt0000615</td>\n",
       "      <td>movie</td>\n",
       "      <td>Robbery Under Arms</td>\n",
       "      <td>Robbery Under Arms</td>\n",
       "      <td>0</td>\n",
       "      <td>1907</td>\n",
       "      <td>\\N</td>\n",
       "      <td>\\N</td>\n",
       "      <td>Drama</td>\n",
       "    </tr>\n",
       "    <tr>\n",
       "      <th>3</th>\n",
       "      <td>tt0000630</td>\n",
       "      <td>movie</td>\n",
       "      <td>Hamlet</td>\n",
       "      <td>Amleto</td>\n",
       "      <td>0</td>\n",
       "      <td>1908</td>\n",
       "      <td>\\N</td>\n",
       "      <td>\\N</td>\n",
       "      <td>Drama</td>\n",
       "    </tr>\n",
       "    <tr>\n",
       "      <th>4</th>\n",
       "      <td>tt0000675</td>\n",
       "      <td>movie</td>\n",
       "      <td>Don Quijote</td>\n",
       "      <td>Don Quijote</td>\n",
       "      <td>0</td>\n",
       "      <td>1908</td>\n",
       "      <td>\\N</td>\n",
       "      <td>\\N</td>\n",
       "      <td>Drama</td>\n",
       "    </tr>\n",
       "  </tbody>\n",
       "</table>\n",
       "</div>"
      ],
      "text/plain": [
       "      tconst titleType                 primaryTitle  \\\n",
       "0  tt0000574     movie  The Story of the Kelly Gang   \n",
       "1  tt0000591     movie             The Prodigal Son   \n",
       "2  tt0000615     movie           Robbery Under Arms   \n",
       "3  tt0000630     movie                       Hamlet   \n",
       "4  tt0000675     movie                  Don Quijote   \n",
       "\n",
       "                 originalTitle isAdult startYear endYear runtimeMinutes  \\\n",
       "0  The Story of the Kelly Gang       0      1906      \\N             70   \n",
       "1            L'enfant prodigue       0      1907      \\N             90   \n",
       "2           Robbery Under Arms       0      1907      \\N             \\N   \n",
       "3                       Amleto       0      1908      \\N             \\N   \n",
       "4                  Don Quijote       0      1908      \\N             \\N   \n",
       "\n",
       "                       genres  \n",
       "0  Action,Adventure,Biography  \n",
       "1                       Drama  \n",
       "2                       Drama  \n",
       "3                       Drama  \n",
       "4                       Drama  "
      ]
     },
     "execution_count": 4,
     "metadata": {},
     "output_type": "execute_result"
    }
   ],
   "source": [
    "meta = meta[meta['genres'].notna()]\n",
    "\n",
    "meta = meta[meta['genres'] != \"\\\\N\"]\n",
    "\n",
    "meta = meta.reset_index()\n",
    "meta = meta.drop('index', axis = 1)\n",
    "meta.head()"
   ]
  },
  {
   "cell_type": "code",
   "execution_count": 5,
   "id": "439f339a",
   "metadata": {},
   "outputs": [
    {
     "data": {
      "text/plain": [
       "array(['movie', 'tvMiniSeries', 'tvMovie', 'tvSeries', 'tvSpecial'],\n",
       "      dtype=object)"
      ]
     },
     "execution_count": 5,
     "metadata": {},
     "output_type": "execute_result"
    }
   ],
   "source": [
    "np.unique(meta['titleType'])"
   ]
  },
  {
   "cell_type": "code",
   "execution_count": 6,
   "id": "a82062a9",
   "metadata": {},
   "outputs": [],
   "source": [
    "Genres = []\n",
    "for i in range(len(meta['genres'])):\n",
    "    Genres.append(meta['genres'][i].split(','))"
   ]
  },
  {
   "cell_type": "code",
   "execution_count": 7,
   "id": "d20541d6",
   "metadata": {},
   "outputs": [],
   "source": [
    "meta['genres'] = Genres\n",
    "meta_movies = meta[meta['titleType'] == 'movie']"
   ]
  },
  {
   "cell_type": "code",
   "execution_count": 8,
   "id": "b25053be",
   "metadata": {},
   "outputs": [],
   "source": [
    "meta_movies = meta_movies.reset_index()\n",
    "meta_movies = meta_movies.drop('index', axis = 1)"
   ]
  },
  {
   "cell_type": "code",
   "execution_count": 9,
   "id": "0fd48fb8",
   "metadata": {},
   "outputs": [],
   "source": [
    "meta_movies = meta_movies[meta_movies['startYear'] != \"\\\\N\"]\n",
    "meta_movies = meta_movies.reset_index()\n",
    "meta_movies = meta_movies.drop('index', axis=1)"
   ]
  },
  {
   "cell_type": "code",
   "execution_count": 10,
   "id": "271a9944",
   "metadata": {},
   "outputs": [],
   "source": [
    "meta_movies['startYear'] = [int(meta_movies['startYear'][i]) for i in range(len(meta_movies['startYear']))]"
   ]
  },
  {
   "cell_type": "code",
   "execution_count": 11,
   "id": "6b912822",
   "metadata": {},
   "outputs": [],
   "source": [
    "meta_movies = meta_movies[(meta_movies['startYear'] >= 2010) & (meta_movies['startYear'] <= 2019)]\n",
    "meta_movies = meta_movies.reset_index()\n",
    "meta_movies = meta_movies.drop('index', axis=1)"
   ]
  },
  {
   "cell_type": "code",
   "execution_count": 12,
   "id": "6edb133b",
   "metadata": {},
   "outputs": [
    {
     "data": {
      "text/html": [
       "<div>\n",
       "<style scoped>\n",
       "    .dataframe tbody tr th:only-of-type {\n",
       "        vertical-align: middle;\n",
       "    }\n",
       "\n",
       "    .dataframe tbody tr th {\n",
       "        vertical-align: top;\n",
       "    }\n",
       "\n",
       "    .dataframe thead th {\n",
       "        text-align: right;\n",
       "    }\n",
       "</style>\n",
       "<table border=\"1\" class=\"dataframe\">\n",
       "  <thead>\n",
       "    <tr style=\"text-align: right;\">\n",
       "      <th></th>\n",
       "      <th>tconst</th>\n",
       "      <th>titleType</th>\n",
       "      <th>primaryTitle</th>\n",
       "      <th>originalTitle</th>\n",
       "      <th>isAdult</th>\n",
       "      <th>startYear</th>\n",
       "      <th>endYear</th>\n",
       "      <th>runtimeMinutes</th>\n",
       "      <th>genres</th>\n",
       "    </tr>\n",
       "  </thead>\n",
       "  <tbody>\n",
       "    <tr>\n",
       "      <th>0</th>\n",
       "      <td>tt0011216</td>\n",
       "      <td>movie</td>\n",
       "      <td>Spanish Fiesta</td>\n",
       "      <td>La fête espagnole</td>\n",
       "      <td>0</td>\n",
       "      <td>2019</td>\n",
       "      <td>\\N</td>\n",
       "      <td>67</td>\n",
       "      <td>[Drama]</td>\n",
       "    </tr>\n",
       "    <tr>\n",
       "      <th>1</th>\n",
       "      <td>tt0011801</td>\n",
       "      <td>movie</td>\n",
       "      <td>Tötet nicht mehr</td>\n",
       "      <td>Tötet nicht mehr</td>\n",
       "      <td>0</td>\n",
       "      <td>2019</td>\n",
       "      <td>\\N</td>\n",
       "      <td>\\N</td>\n",
       "      <td>[Action, Crime]</td>\n",
       "    </tr>\n",
       "    <tr>\n",
       "      <th>2</th>\n",
       "      <td>tt0063351</td>\n",
       "      <td>movie</td>\n",
       "      <td>Summer in Narita</td>\n",
       "      <td>Nihon Kaiho sensen: Sanrizuka no natsu</td>\n",
       "      <td>0</td>\n",
       "      <td>2012</td>\n",
       "      <td>\\N</td>\n",
       "      <td>108</td>\n",
       "      <td>[Documentary]</td>\n",
       "    </tr>\n",
       "    <tr>\n",
       "      <th>3</th>\n",
       "      <td>tt0069049</td>\n",
       "      <td>movie</td>\n",
       "      <td>The Other Side of the Wind</td>\n",
       "      <td>The Other Side of the Wind</td>\n",
       "      <td>0</td>\n",
       "      <td>2018</td>\n",
       "      <td>\\N</td>\n",
       "      <td>122</td>\n",
       "      <td>[Drama]</td>\n",
       "    </tr>\n",
       "    <tr>\n",
       "      <th>4</th>\n",
       "      <td>tt0083060</td>\n",
       "      <td>movie</td>\n",
       "      <td>The Drive to Win</td>\n",
       "      <td>Sha Ou</td>\n",
       "      <td>0</td>\n",
       "      <td>2019</td>\n",
       "      <td>\\N</td>\n",
       "      <td>\\N</td>\n",
       "      <td>[Drama, Sport]</td>\n",
       "    </tr>\n",
       "  </tbody>\n",
       "</table>\n",
       "</div>"
      ],
      "text/plain": [
       "      tconst titleType                primaryTitle  \\\n",
       "0  tt0011216     movie              Spanish Fiesta   \n",
       "1  tt0011801     movie            Tötet nicht mehr   \n",
       "2  tt0063351     movie            Summer in Narita   \n",
       "3  tt0069049     movie  The Other Side of the Wind   \n",
       "4  tt0083060     movie            The Drive to Win   \n",
       "\n",
       "                            originalTitle isAdult  startYear endYear  \\\n",
       "0                       La fête espagnole       0       2019      \\N   \n",
       "1                        Tötet nicht mehr       0       2019      \\N   \n",
       "2  Nihon Kaiho sensen: Sanrizuka no natsu       0       2012      \\N   \n",
       "3              The Other Side of the Wind       0       2018      \\N   \n",
       "4                                  Sha Ou       0       2019      \\N   \n",
       "\n",
       "  runtimeMinutes           genres  \n",
       "0             67          [Drama]  \n",
       "1             \\N  [Action, Crime]  \n",
       "2            108    [Documentary]  \n",
       "3            122          [Drama]  \n",
       "4             \\N   [Drama, Sport]  "
      ]
     },
     "execution_count": 12,
     "metadata": {},
     "output_type": "execute_result"
    }
   ],
   "source": [
    "meta_movies.head()"
   ]
  },
  {
   "cell_type": "code",
   "execution_count": 13,
   "id": "130cc5f0",
   "metadata": {},
   "outputs": [],
   "source": [
    "flat_genres = list(np.concatenate(list(meta_movies['genres'])).flat)"
   ]
  },
  {
   "cell_type": "code",
   "execution_count": 14,
   "id": "20c23a2a",
   "metadata": {},
   "outputs": [],
   "source": [
    "unique_genres = np.unique(flat_genres)"
   ]
  },
  {
   "cell_type": "code",
   "execution_count": 15,
   "id": "266fd4f0",
   "metadata": {},
   "outputs": [
    {
     "data": {
      "text/plain": [
       "['Action',\n",
       " 'Adult',\n",
       " 'Adventure',\n",
       " 'Animation',\n",
       " 'Biography',\n",
       " 'Comedy',\n",
       " 'Crime',\n",
       " 'Documentary',\n",
       " 'Drama',\n",
       " 'Family',\n",
       " 'Fantasy',\n",
       " 'Game-Show',\n",
       " 'History',\n",
       " 'Horror',\n",
       " 'Music',\n",
       " 'Musical',\n",
       " 'Mystery',\n",
       " 'News',\n",
       " 'Reality-TV',\n",
       " 'Romance',\n",
       " 'Sci-Fi',\n",
       " 'Short',\n",
       " 'Sport',\n",
       " 'Talk-Show',\n",
       " 'Thriller',\n",
       " 'War',\n",
       " 'Western']"
      ]
     },
     "execution_count": 15,
     "metadata": {},
     "output_type": "execute_result"
    }
   ],
   "source": [
    "list(unique_genres)"
   ]
  },
  {
   "cell_type": "code",
   "execution_count": 16,
   "id": "b2878cad",
   "metadata": {},
   "outputs": [],
   "source": [
    "genre_count = []\n",
    "gen = []\n",
    "for i in list(unique_genres):\n",
    "    gen.append(i)\n",
    "    genre_count.append(flat_genres.count(i))"
   ]
  },
  {
   "cell_type": "code",
   "execution_count": 17,
   "id": "8419fc03",
   "metadata": {},
   "outputs": [],
   "source": [
    "genre_count_df = pd.DataFrame(list(zip(gen,genre_count)), columns = ['Genre', 'Count'])"
   ]
  },
  {
   "cell_type": "code",
   "execution_count": 18,
   "id": "cedb72da",
   "metadata": {},
   "outputs": [],
   "source": [
    "genre_count_df = genre_count_df.sort_values(by = 'Count', ascending = False)"
   ]
  },
  {
   "cell_type": "code",
   "execution_count": 19,
   "id": "920c2098",
   "metadata": {
    "scrolled": false
   },
   "outputs": [
    {
     "data": {
      "image/png": "[encoded data removed]",
      "text/plain": [
       "<Figure size 864x432 with 1 Axes>"
      ]
     },
     "metadata": {
      "needs_background": "light"
     },
     "output_type": "display_data"
    }
   ],
   "source": [
    "plt.figure(figsize=(12, 6))\n",
    "plt.bar(genre_count_df['Genre'],genre_count_df['Count'])\n",
    "plt.xticks(rotation = 90)\n",
    "plt.show()"
   ]
  },
  {
   "cell_type": "code",
   "execution_count": 20,
   "id": "1f778d79",
   "metadata": {},
   "outputs": [],
   "source": [
    "ratings = pd.read_csv('../../../ratings.tsv', sep = '\\t')"
   ]
  },
  {
   "cell_type": "code",
   "execution_count": 21,
   "id": "ef29fb07",
   "metadata": {},
   "outputs": [
    {
     "data": {
      "text/html": [
       "<div>\n",
       "<style scoped>\n",
       "    .dataframe tbody tr th:only-of-type {\n",
       "        vertical-align: middle;\n",
       "    }\n",
       "\n",
       "    .dataframe tbody tr th {\n",
       "        vertical-align: top;\n",
       "    }\n",
       "\n",
       "    .dataframe thead th {\n",
       "        text-align: right;\n",
       "    }\n",
       "</style>\n",
       "<table border=\"1\" class=\"dataframe\">\n",
       "  <thead>\n",
       "    <tr style=\"text-align: right;\">\n",
       "      <th></th>\n",
       "      <th>tconst</th>\n",
       "      <th>averageRating</th>\n",
       "      <th>numVotes</th>\n",
       "    </tr>\n",
       "  </thead>\n",
       "  <tbody>\n",
       "    <tr>\n",
       "      <th>0</th>\n",
       "      <td>tt0000001</td>\n",
       "      <td>5.7</td>\n",
       "      <td>1858</td>\n",
       "    </tr>\n",
       "    <tr>\n",
       "      <th>1</th>\n",
       "      <td>tt0000002</td>\n",
       "      <td>6.0</td>\n",
       "      <td>243</td>\n",
       "    </tr>\n",
       "    <tr>\n",
       "      <th>2</th>\n",
       "      <td>tt0000003</td>\n",
       "      <td>6.5</td>\n",
       "      <td>1628</td>\n",
       "    </tr>\n",
       "    <tr>\n",
       "      <th>3</th>\n",
       "      <td>tt0000004</td>\n",
       "      <td>6.0</td>\n",
       "      <td>158</td>\n",
       "    </tr>\n",
       "    <tr>\n",
       "      <th>4</th>\n",
       "      <td>tt0000005</td>\n",
       "      <td>6.2</td>\n",
       "      <td>2455</td>\n",
       "    </tr>\n",
       "  </tbody>\n",
       "</table>\n",
       "</div>"
      ],
      "text/plain": [
       "      tconst  averageRating  numVotes\n",
       "0  tt0000001            5.7      1858\n",
       "1  tt0000002            6.0       243\n",
       "2  tt0000003            6.5      1628\n",
       "3  tt0000004            6.0       158\n",
       "4  tt0000005            6.2      2455"
      ]
     },
     "execution_count": 21,
     "metadata": {},
     "output_type": "execute_result"
    }
   ],
   "source": [
    "ratings.head()"
   ]
  },
  {
   "cell_type": "code",
   "execution_count": 22,
   "id": "c2e6af26",
   "metadata": {},
   "outputs": [],
   "source": [
    "movie_ratings_tmp = meta_movies.merge(ratings, on = 'tconst')\n",
    "movie_ratings = movie_ratings_tmp[movie_ratings_tmp['numVotes'] > 500]\n",
    "movie_ratings = movie_ratings.reset_index(drop=True)"
   ]
  },
  {
   "cell_type": "code",
   "execution_count": 23,
   "id": "9b53ff28",
   "metadata": {},
   "outputs": [
    {
     "data": {
      "text/plain": [
       "21.330154891986222"
      ]
     },
     "execution_count": 23,
     "metadata": {},
     "output_type": "execute_result"
    }
   ],
   "source": [
    "movie_ratings.shape[0]/movie_ratings_tmp.shape[0]*100"
   ]
  },
  {
   "cell_type": "code",
   "execution_count": 24,
   "id": "5540b530",
   "metadata": {},
   "outputs": [
    {
     "data": {
      "text/plain": [
       "18701"
      ]
     },
     "execution_count": 24,
     "metadata": {},
     "output_type": "execute_result"
    }
   ],
   "source": [
    "movie_ratings.shape[0]"
   ]
  },
  {
   "cell_type": "code",
   "execution_count": 25,
   "id": "a67d8856",
   "metadata": {},
   "outputs": [],
   "source": [
    "movie_ids_10s = movie_ratings['tconst']"
   ]
  },
  {
   "cell_type": "code",
   "execution_count": 26,
   "id": "b275bea0",
   "metadata": {},
   "outputs": [],
   "source": [
    "movie_plts = pd.read_csv('../../IMDb-Scraper/bot/movie_plots.csv')\n",
    "plots = []\n",
    "for i in movie_plts['movie_plots']:\n",
    "    plots.append(str(i))"
   ]
  },
  {
   "cell_type": "code",
   "execution_count": 27,
   "id": "e4dc401f",
   "metadata": {
    "scrolled": true
   },
   "outputs": [],
   "source": [
    "movie_ratings = movie_ratings.head(len(plots))\n",
    "movie_ratings['plots'] = plots"
   ]
  },
  {
   "cell_type": "code",
   "execution_count": 28,
   "id": "54720e76",
   "metadata": {},
   "outputs": [
    {
     "data": {
      "text/html": [
       "<div>\n",
       "<style scoped>\n",
       "    .dataframe tbody tr th:only-of-type {\n",
       "        vertical-align: middle;\n",
       "    }\n",
       "\n",
       "    .dataframe tbody tr th {\n",
       "        vertical-align: top;\n",
       "    }\n",
       "\n",
       "    .dataframe thead th {\n",
       "        text-align: right;\n",
       "    }\n",
       "</style>\n",
       "<table border=\"1\" class=\"dataframe\">\n",
       "  <thead>\n",
       "    <tr style=\"text-align: right;\">\n",
       "      <th></th>\n",
       "      <th>tconst</th>\n",
       "      <th>titleType</th>\n",
       "      <th>primaryTitle</th>\n",
       "      <th>originalTitle</th>\n",
       "      <th>isAdult</th>\n",
       "      <th>startYear</th>\n",
       "      <th>endYear</th>\n",
       "      <th>runtimeMinutes</th>\n",
       "      <th>genres</th>\n",
       "      <th>averageRating</th>\n",
       "      <th>numVotes</th>\n",
       "      <th>plots</th>\n",
       "    </tr>\n",
       "  </thead>\n",
       "  <tbody>\n",
       "    <tr>\n",
       "      <th>0</th>\n",
       "      <td>tt0069049</td>\n",
       "      <td>movie</td>\n",
       "      <td>The Other Side of the Wind</td>\n",
       "      <td>The Other Side of the Wind</td>\n",
       "      <td>0</td>\n",
       "      <td>2018</td>\n",
       "      <td>\\N</td>\n",
       "      <td>122</td>\n",
       "      <td>[Drama]</td>\n",
       "      <td>6.7</td>\n",
       "      <td>7083</td>\n",
       "      <td>A famed, and infamous, movie director, JJ Hann...</td>\n",
       "    </tr>\n",
       "    <tr>\n",
       "      <th>1</th>\n",
       "      <td>tt0146592</td>\n",
       "      <td>movie</td>\n",
       "      <td>Pál Adrienn</td>\n",
       "      <td>Pál Adrienn</td>\n",
       "      <td>0</td>\n",
       "      <td>2010</td>\n",
       "      <td>\\N</td>\n",
       "      <td>136</td>\n",
       "      <td>[Drama]</td>\n",
       "      <td>6.7</td>\n",
       "      <td>509</td>\n",
       "      <td>A lonely obese nurse, working at a hospital te...</td>\n",
       "    </tr>\n",
       "    <tr>\n",
       "      <th>2</th>\n",
       "      <td>tt0176694</td>\n",
       "      <td>movie</td>\n",
       "      <td>The Tragedy of Man</td>\n",
       "      <td>Az ember tragédiája</td>\n",
       "      <td>0</td>\n",
       "      <td>2011</td>\n",
       "      <td>\\N</td>\n",
       "      <td>160</td>\n",
       "      <td>[Animation, Drama, History]</td>\n",
       "      <td>8.0</td>\n",
       "      <td>892</td>\n",
       "      <td>Adam's and Eve's epic journey throughout histo...</td>\n",
       "    </tr>\n",
       "    <tr>\n",
       "      <th>3</th>\n",
       "      <td>tt0249516</td>\n",
       "      <td>movie</td>\n",
       "      <td>Foodfight!</td>\n",
       "      <td>Foodfight!</td>\n",
       "      <td>0</td>\n",
       "      <td>2012</td>\n",
       "      <td>\\N</td>\n",
       "      <td>91</td>\n",
       "      <td>[Action, Adventure, Animation]</td>\n",
       "      <td>1.6</td>\n",
       "      <td>10647</td>\n",
       "      <td>When the supermarket closes at night, the cont...</td>\n",
       "    </tr>\n",
       "    <tr>\n",
       "      <th>4</th>\n",
       "      <td>tt0293069</td>\n",
       "      <td>movie</td>\n",
       "      <td>Dark Blood</td>\n",
       "      <td>Dark Blood</td>\n",
       "      <td>0</td>\n",
       "      <td>2012</td>\n",
       "      <td>\\N</td>\n",
       "      <td>86</td>\n",
       "      <td>[Thriller]</td>\n",
       "      <td>6.4</td>\n",
       "      <td>1295</td>\n",
       "      <td>Dealing with nuclear testing and its long-last...</td>\n",
       "    </tr>\n",
       "  </tbody>\n",
       "</table>\n",
       "</div>"
      ],
      "text/plain": [
       "      tconst titleType                primaryTitle  \\\n",
       "0  tt0069049     movie  The Other Side of the Wind   \n",
       "1  tt0146592     movie                 Pál Adrienn   \n",
       "2  tt0176694     movie          The Tragedy of Man   \n",
       "3  tt0249516     movie                  Foodfight!   \n",
       "4  tt0293069     movie                  Dark Blood   \n",
       "\n",
       "                originalTitle isAdult  startYear endYear runtimeMinutes  \\\n",
       "0  The Other Side of the Wind       0       2018      \\N            122   \n",
       "1                 Pál Adrienn       0       2010      \\N            136   \n",
       "2         Az ember tragédiája       0       2011      \\N            160   \n",
       "3                  Foodfight!       0       2012      \\N             91   \n",
       "4                  Dark Blood       0       2012      \\N             86   \n",
       "\n",
       "                           genres  averageRating  numVotes  \\\n",
       "0                         [Drama]            6.7      7083   \n",
       "1                         [Drama]            6.7       509   \n",
       "2     [Animation, Drama, History]            8.0       892   \n",
       "3  [Action, Adventure, Animation]            1.6     10647   \n",
       "4                      [Thriller]            6.4      1295   \n",
       "\n",
       "                                               plots  \n",
       "0  A famed, and infamous, movie director, JJ Hann...  \n",
       "1  A lonely obese nurse, working at a hospital te...  \n",
       "2  Adam's and Eve's epic journey throughout histo...  \n",
       "3  When the supermarket closes at night, the cont...  \n",
       "4  Dealing with nuclear testing and its long-last...  "
      ]
     },
     "execution_count": 28,
     "metadata": {},
     "output_type": "execute_result"
    }
   ],
   "source": [
    "movie_ratings.head()"
   ]
  },
  {
   "cell_type": "code",
   "execution_count": 29,
   "id": "a8a563f9",
   "metadata": {},
   "outputs": [],
   "source": [
    "plots_new = []\n",
    "for i in range(movie_ratings.shape[0]):\n",
    "    plots_new.append(re.findall(r\"^(?!\\bIt looks like we don't have\\b).+\",movie_ratings['plots'][i]))"
   ]
  },
  {
   "cell_type": "code",
   "execution_count": 30,
   "id": "a366ee44",
   "metadata": {},
   "outputs": [],
   "source": [
    "movie_ratings['plots_new'] = plots_new\n",
    "movie_ratings = movie_ratings[movie_ratings['plots_new'].str.len() > 0]\n",
    "movie_ratings = movie_ratings.drop('plots_new', axis = 1)"
   ]
  },
  {
   "cell_type": "code",
   "execution_count": 31,
   "id": "827d9e90",
   "metadata": {},
   "outputs": [],
   "source": [
    "movie_ratings = movie_ratings.reset_index()\n",
    "movie_ratings = movie_ratings.drop('index', axis = 1)"
   ]
  },
  {
   "cell_type": "code",
   "execution_count": 32,
   "id": "0a8c7487",
   "metadata": {},
   "outputs": [],
   "source": [
    "multilabel_binarizer = MultiLabelBinarizer()\n",
    "multilabel_binarizer.fit(movie_ratings['genres'])\n",
    "y = multilabel_binarizer.transform(movie_ratings['genres'])"
   ]
  },
  {
   "cell_type": "code",
   "execution_count": 33,
   "id": "3f00b4fb",
   "metadata": {},
   "outputs": [],
   "source": [
    "movie_ratings['plots_clean'] = movie_ratings['plots'].apply(contractions.fix)"
   ]
  },
  {
   "cell_type": "code",
   "execution_count": 34,
   "id": "cbdeb0da",
   "metadata": {},
   "outputs": [],
   "source": [
    "def word_cleaner(text):\n",
    "    text = re.sub('[0-9]nd|[0-9]st|[0-9]rd|[0-9]th+','',text)\n",
    "    text = text.lower()\n",
    "    text = text.replace(\"'\", '')\n",
    "    text = re.sub(\"[^a-zA-Z]\",\" \",text)\n",
    "    text = ' '.join(text.split())\n",
    "    return(text)"
   ]
  },
  {
   "cell_type": "code",
   "execution_count": 35,
   "id": "5a76489c",
   "metadata": {},
   "outputs": [],
   "source": [
    "movie_ratings['plots_clean'] = movie_ratings['plots_clean'].apply(word_cleaner)\n",
    "movie_ratings['plots_clean'] = movie_ratings['plots_clean'].apply(remove_stopwords)"
   ]
  },
  {
   "cell_type": "code",
   "execution_count": 36,
   "id": "e72569a4",
   "metadata": {},
   "outputs": [],
   "source": [
    "x = movie_ratings['plots_clean']\n",
    "x_train, x_test, y_train, y_test = train_test_split(x, y, test_size = 0.2, random_state = 20)"
   ]
  },
  {
   "cell_type": "code",
   "execution_count": 37,
   "id": "f2a77e2a",
   "metadata": {},
   "outputs": [],
   "source": [
    "tfidf_vec=TfidfVectorizer(max_df = 0.3, ngram_range = (1,2))\n",
    "x_train_vec = tfidf_vec.fit_transform(x_train)\n",
    "x_test_vec = tfidf_vec.transform(x_test)"
   ]
  },
  {
   "cell_type": "code",
   "execution_count": 38,
   "id": "42281adc",
   "metadata": {},
   "outputs": [
    {
     "data": {
      "text/plain": [
       "OneVsRestClassifier(estimator=SGDClassifier(class_weight='balanced', loss='log',\n",
       "                                            max_iter=10000, n_jobs=-1,\n",
       "                                            random_state=20),\n",
       "                    n_jobs=-1)"
      ]
     },
     "execution_count": 38,
     "metadata": {},
     "output_type": "execute_result"
    }
   ],
   "source": [
    "classifier = OneVsRestClassifier(SGDClassifier(max_iter = 10000, loss = 'log', penalty = 'l2', alpha = 0.0001, class_weight = 'balanced', n_jobs = -1, random_state = 20), n_jobs = -1)\n",
    "classifier.fit(x_train_vec, y_train)"
   ]
  },
  {
   "cell_type": "code",
   "execution_count": 39,
   "id": "01c42c16",
   "metadata": {},
   "outputs": [
    {
     "data": {
      "text/plain": [
       "KNeighborsClassifier(metric='cosine', n_jobs=-1)"
      ]
     },
     "execution_count": 39,
     "metadata": {},
     "output_type": "execute_result"
    }
   ],
   "source": [
    "multilabel_binarizer_similar = MultiLabelBinarizer()\n",
    "Y = [[movie_ratings['tconst'][i]] for i in range(len(movie_ratings['tconst']))]\n",
    "Y = multilabel_binarizer_similar.fit_transform(Y)\n",
    "x = movie_ratings['plots_clean']\n",
    "vectorizer2 = TfidfVectorizer(ngram_range = (2,3))\n",
    "x_names = vectorizer2.fit_transform(x)\n",
    "KNN = KNeighborsClassifier(5, n_jobs = -1, metric = 'cosine')\n",
    "KNN.fit(x_names, Y)"
   ]
  },
  {
   "cell_type": "code",
   "execution_count": 40,
   "id": "2bd061aa",
   "metadata": {},
   "outputs": [
    {
     "name": "stdout",
     "output_type": "stream",
     "text": [
      "Accuracy: 0.06920600858369098\n",
      "Hamming Loss: 0.10790259376749393\n",
      "\n",
      "Micro Precision: 0.4600267976775346\n",
      "Micro Recall: 0.7556859867938371\n",
      "Micro F1: 0.5719044975013882\n",
      "\n",
      "Macro Precision: 0.339900831724376\n",
      "Macro Recall: 0.5545236549713003\n",
      "Macro F1: 0.41093311078649164\n"
     ]
    },
    {
     "name": "stderr",
     "output_type": "stream",
     "text": [
      "C:\\Users\\vyabo\\anaconda3\\lib\\site-packages\\sklearn\\metrics\\_classification.py:1318: UndefinedMetricWarning: Precision is ill-defined and being set to 0.0 in labels with no predicted samples. Use `zero_division` parameter to control this behavior.\n",
      "  _warn_prf(average, modifier, msg_start, len(result))\n",
      "C:\\Users\\vyabo\\anaconda3\\lib\\site-packages\\sklearn\\metrics\\_classification.py:1318: UndefinedMetricWarning: Recall is ill-defined and being set to 0.0 in labels with no true samples. Use `zero_division` parameter to control this behavior.\n",
      "  _warn_prf(average, modifier, msg_start, len(result))\n"
     ]
    }
   ],
   "source": [
    "preds_log = classifier.predict_proba(x_test_vec)\n",
    "preds_new = (preds_log >= 0.45).astype(int)\n",
    "tmp = multilabel_binarizer.inverse_transform(preds_new)\n",
    "y_test_tmp = multilabel_binarizer.inverse_transform(y_test)\n",
    "print('Accuracy:', accuracy_score(y_test,preds_new))\n",
    "print('Hamming Loss:', hamming_loss(y_test,preds_new))\n",
    "print()\n",
    "print('Micro Precision:', precision_score(y_test, preds_new, average = 'micro'))\n",
    "print('Micro Recall:', recall_score(y_test, preds_new, average = 'micro'))\n",
    "print('Micro F1:', f1_score(y_test, preds_new, average = 'micro'))\n",
    "print()\n",
    "print('Macro Precision:', precision_score(y_test, preds_new, average = 'macro'))\n",
    "print('Macro Recall:', recall_score(y_test, preds_new, average = 'macro'))\n",
    "print('Macro F1:', f1_score(y_test, preds_new, average = 'macro'))"
   ]
  },
  {
   "cell_type": "code",
   "execution_count": 41,
   "id": "dac88327",
   "metadata": {},
   "outputs": [],
   "source": [
    "filename = '../../Movie-Predictor/static/tfidf_vec.pickle'\n",
    "pickle.dump(tfidf_vec, open(filename, 'wb'))\n",
    "\n",
    "filename = '../../Movie-Predictor/static/multilabel_binarizer.pickle'\n",
    "pickle.dump(multilabel_binarizer, open(filename, 'wb'))\n",
    "\n",
    "filename = '../../Movie-Predictor/static/vectorizer2.pickle'\n",
    "pickle.dump(vectorizer2, open(filename, 'wb'))\n",
    "\n",
    "filename = '../../Movie-Predictor/static/multilabel_binarizer_similar.pickle'\n",
    "pickle.dump(multilabel_binarizer_similar, open(filename, 'wb'))\n",
    "\n",
    "filename = '../../Movie-Predictor/static/movie_ratings.pickle'\n",
    "pickle.dump(movie_ratings, open(filename, 'wb'))\n",
    "\n",
    "filename = '../../Movie-Predictor/static/classifier.pickle'\n",
    "pickle.dump(classifier, open(filename, 'wb'))\n",
    "\n",
    "filename = '../../Movie-Predictor/static/KNN.pickle'\n",
    "pickle.dump(KNN, open(filename, 'wb'))"
   ]
  },
  {
   "cell_type": "code",
   "execution_count": null,
   "id": "1d6ab033",
   "metadata": {},
   "outputs": [],
   "source": []
  }
 ],
 "metadata": {
  "kernelspec": {
   "display_name": "Python 3 (ipykernel)",
   "language": "python",
   "name": "python3"
  },
  "language_info": {
   "codemirror_mode": {
    "name": "ipython",
    "version": 3
   },
   "file_extension": ".py",
   "mimetype": "text/x-python",
   "name": "python",
   "nbconvert_exporter": "python",
   "pygments_lexer": "ipython3",
   "version": "3.9.7"
  }
 },
 "nbformat": 4,
 "nbformat_minor": 5
}
